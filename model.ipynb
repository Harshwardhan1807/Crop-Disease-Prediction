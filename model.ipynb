{
 "cells": [
  {
   "cell_type": "code",
   "execution_count": 1,
   "id": "464a68c9",
   "metadata": {
    "executionInfo": {
     "elapsed": 20496,
     "status": "ok",
     "timestamp": 1732200629758,
     "user": {
      "displayName": "Harshwardhan Sawant",
      "userId": "07158901270490752011"
     },
     "user_tz": -330
    },
    "id": "464a68c9"
   },
   "outputs": [],
   "source": [
    "import tensorflow as tf\n",
    "import matplotlib.pyplot as plt\n",
    "import numpy as np\n",
    "import seaborn as sns\n",
    "import cv2\n",
    "from matplotlib import pyplot as plt"
   ]
  },
  {
   "cell_type": "code",
   "execution_count": 2,
   "id": "8f132d37",
   "metadata": {
    "executionInfo": {
     "elapsed": 656,
     "status": "ok",
     "timestamp": 1732200683735,
     "user": {
      "displayName": "Harshwardhan Sawant",
      "userId": "07158901270490752011"
     },
     "user_tz": -330
    },
    "id": "8f132d37"
   },
   "outputs": [],
   "source": [
    "data_dir=\"./Cropdiseasedataset\""
   ]
  },
  {
   "cell_type": "code",
   "execution_count": 3,
   "id": "9e790c10",
   "metadata": {
    "colab": {
     "base_uri": "https://localhost:8080/"
    },
    "executionInfo": {
     "elapsed": 24948,
     "status": "ok",
     "timestamp": 1732200711308,
     "user": {
      "displayName": "Harshwardhan Sawant",
      "userId": "07158901270490752011"
     },
     "user_tz": -330
    },
    "id": "9e790c10",
    "outputId": "055152cb-abc5-4c9d-852b-31f1dac2dddd",
    "scrolled": true
   },
   "outputs": [
    {
     "name": "stdout",
     "output_type": "stream",
     "text": [
      "Found 20312 files belonging to 13 classes.\n"
     ]
    }
   ],
   "source": [
    "data = tf.keras.utils.image_dataset_from_directory(data_dir, batch_size=32, label_mode='categorical')"
   ]
  },
  {
   "cell_type": "code",
   "execution_count": 4,
   "id": "70350ab4",
   "metadata": {
    "colab": {
     "base_uri": "https://localhost:8080/"
    },
    "executionInfo": {
     "elapsed": 445,
     "status": "ok",
     "timestamp": 1732182088036,
     "user": {
      "displayName": "Harshwardhan Sawant",
      "userId": "07158901270490752011"
     },
     "user_tz": -330
    },
    "id": "70350ab4",
    "outputId": "2c3b4e0e-800d-4933-d1ad-3e65c7f477dc"
   },
   "outputs": [
    {
     "data": {
      "text/plain": [
       "['Potato___Early_blight',\n",
       " 'Potato___Late_blight',\n",
       " 'Potato___healthy',\n",
       " 'Tomato___Bacterial_spot',\n",
       " 'Tomato___Early_blight',\n",
       " 'Tomato___Late_blight',\n",
       " 'Tomato___Leaf_Mold',\n",
       " 'Tomato___Septoria_leaf_spot',\n",
       " 'Tomato___Spider_mites Two-spotted_spider_mite',\n",
       " 'Tomato___Target_Spot',\n",
       " 'Tomato___Tomato_Yellow_Leaf_Curl_Virus',\n",
       " 'Tomato___Tomato_mosaic_virus',\n",
       " 'Tomato___healthy']"
      ]
     },
     "execution_count": 4,
     "metadata": {},
     "output_type": "execute_result"
    }
   ],
   "source": [
    "classes=data.class_names\n",
    "classes"
   ]
  },
  {
   "cell_type": "code",
   "execution_count": 5,
   "id": "a5068acf",
   "metadata": {
    "id": "a5068acf"
   },
   "outputs": [],
   "source": [
    "# Normalize the dataset\n",
    "data=data.map(lambda x, y: (x / 255.0, y))"
   ]
  },
  {
   "cell_type": "code",
   "execution_count": 6,
   "id": "2wH94bJly93Z",
   "metadata": {
    "colab": {
     "base_uri": "https://localhost:8080/"
    },
    "executionInfo": {
     "elapsed": 443,
     "status": "ok",
     "timestamp": 1732184468262,
     "user": {
      "displayName": "Harshwardhan Sawant",
      "userId": "07158901270490752011"
     },
     "user_tz": -330
    },
    "id": "2wH94bJly93Z",
    "outputId": "02bf7334-73b8-4232-f245-d6e633dcddad"
   },
   "outputs": [
    {
     "data": {
      "text/plain": [
       "635"
      ]
     },
     "execution_count": 6,
     "metadata": {},
     "output_type": "execute_result"
    }
   ],
   "source": [
    "len(data)"
   ]
  },
  {
   "cell_type": "code",
   "execution_count": 7,
   "id": "2b266513",
   "metadata": {
    "id": "2b266513"
   },
   "outputs": [],
   "source": [
    "train_size = 450\n",
    "val_size = 65\n",
    "test_size = 120"
   ]
  },
  {
   "cell_type": "code",
   "execution_count": 8,
   "id": "f01ef89e",
   "metadata": {
    "id": "f01ef89e"
   },
   "outputs": [],
   "source": [
    "train = data.take(train_size)\n",
    "val = data.skip(train_size).take(val_size)\n",
    "test = data.skip(train_size + val_size).take(test_size)"
   ]
  },
  {
   "cell_type": "code",
   "execution_count": 12,
   "id": "lP4XViUSDdwE",
   "metadata": {
    "colab": {
     "base_uri": "https://localhost:8080/"
    },
    "executionInfo": {
     "elapsed": 814,
     "status": "ok",
     "timestamp": 1732037612191,
     "user": {
      "displayName": "Harshwardhan Sawant",
      "userId": "07158901270490752011"
     },
     "user_tz": -330
    },
    "id": "lP4XViUSDdwE",
    "outputId": "55f48748-1e10-48ff-c321-af652dc75557"
   },
   "outputs": [],
   "source": [
    "# Define the CNN model\n",
    "model = tf.keras.Sequential([\n",
    "    tf.keras.layers.Conv2D(16, (3, 3), activation='relu', input_shape=(256, 256, 3)),\n",
    "    tf.keras.layers.MaxPooling2D(),\n",
    "    tf.keras.layers.Conv2D(32, (3, 3), activation='relu'),\n",
    "    tf.keras.layers.MaxPooling2D(),\n",
    "    tf.keras.layers.Conv2D(64, (3, 3), activation='relu'),\n",
    "    tf.keras.layers.Conv2D(128, (3, 3), activation='relu'),\n",
    "    tf.keras.layers.MaxPooling2D(),\n",
    "    tf.keras.layers.Conv2D(128, (3, 3), activation='relu'),\n",
    "    tf.keras.layers.MaxPooling2D(),\n",
    "    tf.keras.layers.Dropout(0.25),\n",
    "    tf.keras.layers.Flatten(),\n",
    "    tf.keras.layers.Dense(512, activation='relu'),\n",
    "    tf.keras.layers.Dense(64, activation='relu'),\n",
    "    tf.keras.layers.Dense(13, activation='softmax')\n",
    "])\n"
   ]
  },
  {
   "cell_type": "code",
   "execution_count": 13,
   "id": "910bc178",
   "metadata": {
    "id": "910bc178"
   },
   "outputs": [],
   "source": [
    "# Compile the model\n",
    "model.compile(optimizer='adam', loss='categorical_crossentropy', metrics=['accuracy'])"
   ]
  },
  {
   "cell_type": "code",
   "execution_count": 14,
   "id": "ecb41dcf",
   "metadata": {
    "colab": {
     "base_uri": "https://localhost:8080/",
     "height": 1000
    },
    "executionInfo": {
     "elapsed": 1622,
     "status": "ok",
     "timestamp": 1732037615684,
     "user": {
      "displayName": "Harshwardhan Sawant",
      "userId": "07158901270490752011"
     },
     "user_tz": -330
    },
    "id": "ecb41dcf",
    "outputId": "639802b6-16dc-472f-c45e-a89bee5aa78d"
   },
   "outputs": [
    {
     "name": "stdout",
     "output_type": "stream",
     "text": [
      "Model: \"sequential\"\n",
      "_________________________________________________________________\n",
      " Layer (type)                Output Shape              Param #   \n",
      "=================================================================\n",
      " conv2d (Conv2D)             (None, 254, 254, 16)      448       \n",
      "                                                                 \n",
      " max_pooling2d (MaxPooling2D  (None, 127, 127, 16)     0         \n",
      " )                                                               \n",
      "                                                                 \n",
      " conv2d_1 (Conv2D)           (None, 125, 125, 32)      4640      \n",
      "                                                                 \n",
      " max_pooling2d_1 (MaxPooling  (None, 62, 62, 32)       0         \n",
      " 2D)                                                             \n",
      "                                                                 \n",
      " conv2d_2 (Conv2D)           (None, 60, 60, 64)        18496     \n",
      "                                                                 \n",
      " conv2d_3 (Conv2D)           (None, 58, 58, 128)       73856     \n",
      "                                                                 \n",
      " max_pooling2d_2 (MaxPooling  (None, 29, 29, 128)      0         \n",
      " 2D)                                                             \n",
      "                                                                 \n",
      " conv2d_4 (Conv2D)           (None, 27, 27, 128)       147584    \n",
      "                                                                 \n",
      " max_pooling2d_3 (MaxPooling  (None, 13, 13, 128)      0         \n",
      " 2D)                                                             \n",
      "                                                                 \n",
      " dropout (Dropout)           (None, 13, 13, 128)       0         \n",
      "                                                                 \n",
      " flatten (Flatten)           (None, 21632)             0         \n",
      "                                                                 \n",
      " dense (Dense)               (None, 512)               11076096  \n",
      "                                                                 \n",
      " dense_1 (Dense)             (None, 64)                32832     \n",
      "                                                                 \n",
      " dense_2 (Dense)             (None, 13)                845       \n",
      "                                                                 \n",
      "=================================================================\n",
      "Total params: 11,354,797\n",
      "Trainable params: 11,354,797\n",
      "Non-trainable params: 0\n",
      "_________________________________________________________________\n"
     ]
    }
   ],
   "source": [
    "model.summary()"
   ]
  },
  {
   "cell_type": "code",
   "execution_count": 12,
   "id": "tvmOSN1KDrnP",
   "metadata": {
    "id": "tvmOSN1KDrnP"
   },
   "outputs": [],
   "source": [
    "from tensorflow.keras.callbacks import EarlyStopping"
   ]
  },
  {
   "cell_type": "code",
   "execution_count": 13,
   "id": "YQoFklIWDt7C",
   "metadata": {
    "id": "YQoFklIWDt7C"
   },
   "outputs": [],
   "source": [
    "early_stopping = EarlyStopping(monitor='val_loss',patience=3,restore_best_weights=True)"
   ]
  },
  {
   "cell_type": "code",
   "execution_count": 15,
   "id": "17169723",
   "metadata": {
    "colab": {
     "base_uri": "https://localhost:8080/"
    },
    "executionInfo": {
     "elapsed": 769457,
     "status": "ok",
     "timestamp": 1732038390747,
     "user": {
      "displayName": "Harshwardhan Sawant",
      "userId": "07158901270490752011"
     },
     "user_tz": -330
    },
    "id": "17169723",
    "outputId": "c54d5835-c89f-47ea-88dd-d299ee476758",
    "scrolled": true
   },
   "outputs": [
    {
     "name": "stdout",
     "output_type": "stream",
     "text": [
      "Epoch 1/10\n",
      "450/450 [==============================] - 562s 1s/step - loss: 1.2084 - accuracy: 0.5983 - val_loss: 0.7492 - val_accuracy: 0.7370\n",
      "Epoch 2/10\n",
      "450/450 [==============================] - 568s 1s/step - loss: 0.6139 - accuracy: 0.7951 - val_loss: 0.5533 - val_accuracy: 0.8130\n",
      "Epoch 3/10\n",
      "450/450 [==============================] - 562s 1s/step - loss: 0.4062 - accuracy: 0.8611 - val_loss: 0.5498 - val_accuracy: 0.8173\n",
      "Epoch 4/10\n",
      "450/450 [==============================] - 578s 1s/step - loss: 0.2765 - accuracy: 0.9062 - val_loss: 0.3512 - val_accuracy: 0.8822\n",
      "Epoch 5/10\n",
      "450/450 [==============================] - 578s 1s/step - loss: 0.1863 - accuracy: 0.9352 - val_loss: 0.3906 - val_accuracy: 0.8793\n",
      "Epoch 6/10\n",
      "450/450 [==============================] - 564s 1s/step - loss: 0.1487 - accuracy: 0.9503 - val_loss: 0.3539 - val_accuracy: 0.8909\n",
      "Epoch 7/10\n",
      "450/450 [==============================] - 570s 1s/step - loss: 0.1089 - accuracy: 0.9636 - val_loss: 0.3389 - val_accuracy: 0.9024\n",
      "Epoch 8/10\n",
      "450/450 [==============================] - 1130s 3s/step - loss: 0.0948 - accuracy: 0.9672 - val_loss: 0.4253 - val_accuracy: 0.8769\n",
      "Epoch 9/10\n",
      "450/450 [==============================] - 1269s 3s/step - loss: 0.0744 - accuracy: 0.9761 - val_loss: 0.4188 - val_accuracy: 0.8918\n",
      "Epoch 10/10\n",
      "450/450 [==============================] - 1292s 3s/step - loss: 0.0575 - accuracy: 0.9813 - val_loss: 0.4925 - val_accuracy: 0.8740\n"
     ]
    }
   ],
   "source": [
    "history = model.fit(train, validation_data=val,batch_size=32,epochs=10,callbacks=[early_stopping])"
   ]
  },
  {
   "cell_type": "code",
   "execution_count": 16,
   "id": "93afca77",
   "metadata": {
    "colab": {
     "base_uri": "https://localhost:8080/"
    },
    "executionInfo": {
     "elapsed": 816,
     "status": "ok",
     "timestamp": 1732037324030,
     "user": {
      "displayName": "Harshwardhan Sawant",
      "userId": "07158901270490752011"
     },
     "user_tz": -330
    },
    "id": "93afca77",
    "outputId": "dd490397-703d-4612-c5d2-5761c46e8d85"
   },
   "outputs": [
    {
     "name": "stderr",
     "output_type": "stream",
     "text": [
      "C:\\Users\\shars\\myenv\\lib\\site-packages\\keras\\src\\engine\\training.py:3000: UserWarning: You are saving your model as an HDF5 file via `model.save()`. This file format is considered legacy. We recommend using instead the native Keras format, e.g. `model.save('my_model.keras')`.\n",
      "  saving_api.save_model(\n"
     ]
    }
   ],
   "source": [
    "# Save the model\n",
    "model.save(\"model.h5\")\n"
   ]
  },
  {
   "cell_type": "code",
   "execution_count": 17,
   "id": "bd58ab5a",
   "metadata": {
    "colab": {
     "base_uri": "https://localhost:8080/"
    },
    "executionInfo": {
     "elapsed": 82465,
     "status": "ok",
     "timestamp": 1732038501745,
     "user": {
      "displayName": "Harshwardhan Sawant",
      "userId": "07158901270490752011"
     },
     "user_tz": -330
    },
    "id": "bd58ab5a",
    "outputId": "32332ca8-0f25-4d92-b0c8-af82e815d23b"
   },
   "outputs": [
    {
     "name": "stdout",
     "output_type": "stream",
     "text": [
      "120/120 [==============================] - 125s 840ms/step - loss: 0.4270 - accuracy: 0.8820\n",
      "Test accuracy: 0.8820459246635437\n"
     ]
    }
   ],
   "source": [
    "# Evaluate on the test set\n",
    "test_loss, test_accuracy = model.evaluate(test)\n",
    "print(f\"Test accuracy: {test_accuracy}\")"
   ]
  },
  {
   "cell_type": "code",
   "execution_count": 18,
   "id": "3771fbd0",
   "metadata": {
    "id": "3771fbd0"
   },
   "outputs": [],
   "source": [
    "from tensorflow.keras.metrics import Precision,Recall,CategoricalAccuracy"
   ]
  },
  {
   "cell_type": "code",
   "execution_count": 19,
   "id": "65827425",
   "metadata": {
    "id": "65827425"
   },
   "outputs": [],
   "source": [
    "pre=Precision()\n",
    "rec=Recall()\n",
    "acc=CategoricalAccuracy()"
   ]
  },
  {
   "cell_type": "code",
   "execution_count": 20,
   "id": "2f4b68a1",
   "metadata": {
    "id": "2f4b68a1"
   },
   "outputs": [],
   "source": [
    "x_test=[]\n",
    "y_test=[]\n",
    "for batch in test.as_numpy_iterator():\n",
    "    x,y=batch\n",
    "    y=y.astype(int)\n",
    "    x_test.append(x)\n",
    "    y_test.append(y)"
   ]
  },
  {
   "cell_type": "code",
   "execution_count": 21,
   "id": "1a48facc",
   "metadata": {
    "id": "1a48facc"
   },
   "outputs": [],
   "source": [
    "x_test=np.concatenate(x_test)\n",
    "y_test=np.concatenate(y_test)"
   ]
  },
  {
   "cell_type": "code",
   "execution_count": 22,
   "id": "15af5074",
   "metadata": {
    "id": "15af5074"
   },
   "outputs": [
    {
     "name": "stdout",
     "output_type": "stream",
     "text": [
      "120/120 [==============================] - 96s 771ms/step\n"
     ]
    }
   ],
   "source": [
    "yhat=model.predict(x_test)"
   ]
  },
  {
   "cell_type": "code",
   "execution_count": 23,
   "id": "d63469f1",
   "metadata": {
    "id": "d63469f1"
   },
   "outputs": [
    {
     "data": {
      "text/plain": [
       "<tf.Variable 'UnreadVariable' shape=() dtype=float32, numpy=3832.0>"
      ]
     },
     "execution_count": 23,
     "metadata": {},
     "output_type": "execute_result"
    }
   ],
   "source": [
    "pre.update_state(y_test,yhat)\n",
    "rec.update_state(y_test,yhat)\n",
    "acc.update_state(y_test,yhat)"
   ]
  },
  {
   "cell_type": "code",
   "execution_count": 24,
   "id": "f503acf2",
   "metadata": {
    "id": "f503acf2"
   },
   "outputs": [
    {
     "data": {
      "text/plain": [
       "(0.89098644, 0.8744781, 0.8812631)"
      ]
     },
     "execution_count": 24,
     "metadata": {},
     "output_type": "execute_result"
    }
   ],
   "source": [
    "pre.result().numpy(),rec.result().numpy(),acc.result().numpy()"
   ]
  },
  {
   "cell_type": "code",
   "execution_count": 25,
   "id": "4c9bb74a",
   "metadata": {
    "id": "4c9bb74a"
   },
   "outputs": [],
   "source": [
    "y_test_labels=np.argmax(y_test,axis=1)\n",
    "y=np.argmax(yhat,axis=1)"
   ]
  },
  {
   "cell_type": "code",
   "execution_count": 26,
   "id": "642b2dd9",
   "metadata": {
    "id": "642b2dd9"
   },
   "outputs": [],
   "source": [
    "from sklearn.metrics import confusion_matrix as cm\n",
    "import pandas as pd"
   ]
  },
  {
   "cell_type": "code",
   "execution_count": 27,
   "id": "da738920",
   "metadata": {
    "id": "da738920"
   },
   "outputs": [
    {
     "data": {
      "text/html": [
       "<div>\n",
       "<style scoped>\n",
       "    .dataframe tbody tr th:only-of-type {\n",
       "        vertical-align: middle;\n",
       "    }\n",
       "\n",
       "    .dataframe tbody tr th {\n",
       "        vertical-align: top;\n",
       "    }\n",
       "\n",
       "    .dataframe thead th {\n",
       "        text-align: right;\n",
       "    }\n",
       "</style>\n",
       "<table border=\"1\" class=\"dataframe\">\n",
       "  <thead>\n",
       "    <tr style=\"text-align: right;\">\n",
       "      <th></th>\n",
       "      <th>0</th>\n",
       "      <th>1</th>\n",
       "      <th>2</th>\n",
       "      <th>3</th>\n",
       "      <th>4</th>\n",
       "      <th>5</th>\n",
       "      <th>6</th>\n",
       "      <th>7</th>\n",
       "      <th>8</th>\n",
       "      <th>9</th>\n",
       "      <th>10</th>\n",
       "      <th>11</th>\n",
       "      <th>12</th>\n",
       "    </tr>\n",
       "  </thead>\n",
       "  <tbody>\n",
       "    <tr>\n",
       "      <th>0</th>\n",
       "      <td>178</td>\n",
       "      <td>10</td>\n",
       "      <td>0</td>\n",
       "      <td>0</td>\n",
       "      <td>1</td>\n",
       "      <td>1</td>\n",
       "      <td>0</td>\n",
       "      <td>7</td>\n",
       "      <td>0</td>\n",
       "      <td>0</td>\n",
       "      <td>0</td>\n",
       "      <td>0</td>\n",
       "      <td>0</td>\n",
       "    </tr>\n",
       "    <tr>\n",
       "      <th>1</th>\n",
       "      <td>5</td>\n",
       "      <td>148</td>\n",
       "      <td>1</td>\n",
       "      <td>1</td>\n",
       "      <td>2</td>\n",
       "      <td>10</td>\n",
       "      <td>1</td>\n",
       "      <td>4</td>\n",
       "      <td>1</td>\n",
       "      <td>0</td>\n",
       "      <td>0</td>\n",
       "      <td>0</td>\n",
       "      <td>0</td>\n",
       "    </tr>\n",
       "    <tr>\n",
       "      <th>2</th>\n",
       "      <td>0</td>\n",
       "      <td>12</td>\n",
       "      <td>23</td>\n",
       "      <td>0</td>\n",
       "      <td>0</td>\n",
       "      <td>0</td>\n",
       "      <td>0</td>\n",
       "      <td>0</td>\n",
       "      <td>1</td>\n",
       "      <td>0</td>\n",
       "      <td>0</td>\n",
       "      <td>0</td>\n",
       "      <td>0</td>\n",
       "    </tr>\n",
       "    <tr>\n",
       "      <th>3</th>\n",
       "      <td>0</td>\n",
       "      <td>10</td>\n",
       "      <td>0</td>\n",
       "      <td>355</td>\n",
       "      <td>2</td>\n",
       "      <td>2</td>\n",
       "      <td>0</td>\n",
       "      <td>3</td>\n",
       "      <td>1</td>\n",
       "      <td>1</td>\n",
       "      <td>10</td>\n",
       "      <td>0</td>\n",
       "      <td>0</td>\n",
       "    </tr>\n",
       "    <tr>\n",
       "      <th>4</th>\n",
       "      <td>2</td>\n",
       "      <td>5</td>\n",
       "      <td>0</td>\n",
       "      <td>16</td>\n",
       "      <td>99</td>\n",
       "      <td>24</td>\n",
       "      <td>4</td>\n",
       "      <td>4</td>\n",
       "      <td>3</td>\n",
       "      <td>11</td>\n",
       "      <td>11</td>\n",
       "      <td>1</td>\n",
       "      <td>2</td>\n",
       "    </tr>\n",
       "    <tr>\n",
       "      <th>5</th>\n",
       "      <td>1</td>\n",
       "      <td>26</td>\n",
       "      <td>0</td>\n",
       "      <td>0</td>\n",
       "      <td>20</td>\n",
       "      <td>291</td>\n",
       "      <td>6</td>\n",
       "      <td>12</td>\n",
       "      <td>1</td>\n",
       "      <td>0</td>\n",
       "      <td>2</td>\n",
       "      <td>0</td>\n",
       "      <td>3</td>\n",
       "    </tr>\n",
       "    <tr>\n",
       "      <th>6</th>\n",
       "      <td>1</td>\n",
       "      <td>2</td>\n",
       "      <td>0</td>\n",
       "      <td>0</td>\n",
       "      <td>3</td>\n",
       "      <td>4</td>\n",
       "      <td>171</td>\n",
       "      <td>7</td>\n",
       "      <td>2</td>\n",
       "      <td>0</td>\n",
       "      <td>1</td>\n",
       "      <td>1</td>\n",
       "      <td>1</td>\n",
       "    </tr>\n",
       "    <tr>\n",
       "      <th>7</th>\n",
       "      <td>8</td>\n",
       "      <td>8</td>\n",
       "      <td>2</td>\n",
       "      <td>6</td>\n",
       "      <td>8</td>\n",
       "      <td>4</td>\n",
       "      <td>22</td>\n",
       "      <td>243</td>\n",
       "      <td>5</td>\n",
       "      <td>12</td>\n",
       "      <td>3</td>\n",
       "      <td>5</td>\n",
       "      <td>2</td>\n",
       "    </tr>\n",
       "    <tr>\n",
       "      <th>8</th>\n",
       "      <td>0</td>\n",
       "      <td>0</td>\n",
       "      <td>0</td>\n",
       "      <td>0</td>\n",
       "      <td>3</td>\n",
       "      <td>1</td>\n",
       "      <td>2</td>\n",
       "      <td>0</td>\n",
       "      <td>285</td>\n",
       "      <td>24</td>\n",
       "      <td>4</td>\n",
       "      <td>2</td>\n",
       "      <td>0</td>\n",
       "    </tr>\n",
       "    <tr>\n",
       "      <th>9</th>\n",
       "      <td>0</td>\n",
       "      <td>5</td>\n",
       "      <td>0</td>\n",
       "      <td>4</td>\n",
       "      <td>11</td>\n",
       "      <td>0</td>\n",
       "      <td>1</td>\n",
       "      <td>0</td>\n",
       "      <td>7</td>\n",
       "      <td>229</td>\n",
       "      <td>1</td>\n",
       "      <td>0</td>\n",
       "      <td>21</td>\n",
       "    </tr>\n",
       "    <tr>\n",
       "      <th>10</th>\n",
       "      <td>0</td>\n",
       "      <td>0</td>\n",
       "      <td>0</td>\n",
       "      <td>2</td>\n",
       "      <td>1</td>\n",
       "      <td>0</td>\n",
       "      <td>0</td>\n",
       "      <td>0</td>\n",
       "      <td>2</td>\n",
       "      <td>0</td>\n",
       "      <td>1027</td>\n",
       "      <td>0</td>\n",
       "      <td>0</td>\n",
       "    </tr>\n",
       "    <tr>\n",
       "      <th>11</th>\n",
       "      <td>0</td>\n",
       "      <td>0</td>\n",
       "      <td>0</td>\n",
       "      <td>0</td>\n",
       "      <td>2</td>\n",
       "      <td>0</td>\n",
       "      <td>3</td>\n",
       "      <td>3</td>\n",
       "      <td>7</td>\n",
       "      <td>0</td>\n",
       "      <td>1</td>\n",
       "      <td>50</td>\n",
       "      <td>0</td>\n",
       "    </tr>\n",
       "    <tr>\n",
       "      <th>12</th>\n",
       "      <td>0</td>\n",
       "      <td>0</td>\n",
       "      <td>0</td>\n",
       "      <td>0</td>\n",
       "      <td>0</td>\n",
       "      <td>0</td>\n",
       "      <td>0</td>\n",
       "      <td>1</td>\n",
       "      <td>0</td>\n",
       "      <td>0</td>\n",
       "      <td>0</td>\n",
       "      <td>0</td>\n",
       "      <td>278</td>\n",
       "    </tr>\n",
       "  </tbody>\n",
       "</table>\n",
       "</div>"
      ],
      "text/plain": [
       "     0    1   2    3   4    5    6    7    8    9     10  11   12\n",
       "0   178   10   0    0   1    1    0    7    0    0     0   0    0\n",
       "1     5  148   1    1   2   10    1    4    1    0     0   0    0\n",
       "2     0   12  23    0   0    0    0    0    1    0     0   0    0\n",
       "3     0   10   0  355   2    2    0    3    1    1    10   0    0\n",
       "4     2    5   0   16  99   24    4    4    3   11    11   1    2\n",
       "5     1   26   0    0  20  291    6   12    1    0     2   0    3\n",
       "6     1    2   0    0   3    4  171    7    2    0     1   1    1\n",
       "7     8    8   2    6   8    4   22  243    5   12     3   5    2\n",
       "8     0    0   0    0   3    1    2    0  285   24     4   2    0\n",
       "9     0    5   0    4  11    0    1    0    7  229     1   0   21\n",
       "10    0    0   0    2   1    0    0    0    2    0  1027   0    0\n",
       "11    0    0   0    0   2    0    3    3    7    0     1  50    0\n",
       "12    0    0   0    0   0    0    0    1    0    0     0   0  278"
      ]
     },
     "execution_count": 27,
     "metadata": {},
     "output_type": "execute_result"
    }
   ],
   "source": [
    "matrix=cm(y_test_labels,y)\n",
    "df=pd.DataFrame(matrix)\n",
    "df"
   ]
  },
  {
   "cell_type": "code",
   "execution_count": 28,
   "id": "674362bc",
   "metadata": {
    "id": "674362bc"
   },
   "outputs": [],
   "source": [
    "from sklearn.metrics import classification_report\n",
    "report = classification_report(y_test_labels, y)"
   ]
  },
  {
   "cell_type": "code",
   "execution_count": 29,
   "id": "04ca3d4f",
   "metadata": {
    "id": "04ca3d4f"
   },
   "outputs": [
    {
     "name": "stdout",
     "output_type": "stream",
     "text": [
      "              precision    recall  f1-score   support\n",
      "\n",
      "           0       0.91      0.90      0.91       197\n",
      "           1       0.65      0.86      0.74       173\n",
      "           2       0.88      0.64      0.74        36\n",
      "           3       0.92      0.92      0.92       384\n",
      "           4       0.65      0.54      0.59       182\n",
      "           5       0.86      0.80      0.83       362\n",
      "           6       0.81      0.89      0.85       193\n",
      "           7       0.86      0.74      0.79       328\n",
      "           8       0.90      0.89      0.90       321\n",
      "           9       0.83      0.82      0.82       279\n",
      "          10       0.97      1.00      0.98      1032\n",
      "          11       0.85      0.76      0.80        66\n",
      "          12       0.91      1.00      0.95       279\n",
      "\n",
      "    accuracy                           0.88      3832\n",
      "   macro avg       0.85      0.83      0.83      3832\n",
      "weighted avg       0.88      0.88      0.88      3832\n",
      "\n"
     ]
    }
   ],
   "source": [
    "print(report)"
   ]
  },
  {
   "cell_type": "code",
   "execution_count": 30,
   "id": "4d39e5a6",
   "metadata": {
    "id": "4d39e5a6"
   },
   "outputs": [
    {
     "data": {
      "text/plain": [
       "0.8796449030121413"
      ]
     },
     "execution_count": 30,
     "metadata": {},
     "output_type": "execute_result"
    }
   ],
   "source": [
    "from sklearn.metrics import f1_score\n",
    "f1 = f1_score(y_test_labels, y, average='weighted')\n",
    "f1"
   ]
  },
  {
   "cell_type": "code",
   "execution_count": 31,
   "id": "5eb473ed",
   "metadata": {
    "id": "5eb473ed"
   },
   "outputs": [],
   "source": [
    "import seaborn as sns"
   ]
  },
  {
   "cell_type": "code",
   "execution_count": 32,
   "id": "ec5f5c70",
   "metadata": {
    "id": "ec5f5c70"
   },
   "outputs": [
    {
     "data": {
      "image/png": "[encoded data removed]",
      "text/plain": [
       "<Figure size 1000x700 with 1 Axes>"
      ]
     },
     "metadata": {},
     "output_type": "display_data"
    }
   ],
   "source": [
    "plt.figure(figsize=(10, 7))\n",
    "sns.heatmap(matrix, annot=True, fmt=\"d\", cmap=\"Reds\", cbar=False)\n",
    "plt.xlabel('Predicted Labels')\n",
    "plt.ylabel('True Labels')\n",
    "plt.title('Confusion Matrix')\n",
    "plt.show()"
   ]
  }
 ],
 "metadata": {
  "accelerator": "GPU",
  "colab": {
   "gpuType": "T4",
   "provenance": []
  },
  "kernelspec": {
   "display_name": ".venv",
   "language": "python",
   "name": "python3"
  },
  "language_info": {
   "codemirror_mode": {
    "name": "ipython",
    "version": 3
   },
   "file_extension": ".py",
   "mimetype": "text/x-python",
   "name": "python",
   "nbconvert_exporter": "python",
   "pygments_lexer": "ipython3",
   "version": "3.8.2"
  }
 },
 "nbformat": 4,
 "nbformat_minor": 5
}
